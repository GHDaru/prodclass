{
 "cells": [
  {
   "cell_type": "code",
   "execution_count": 1,
   "metadata": {},
   "outputs": [],
   "source": [
    "import sys\n",
    "sys.path.append('../src/models')  # Ajusta o caminho relativo para alcançar o diretório modelos\n",
    "\n",
    "from tabela_experimentos import TabelaExperimentos\n",
    "from tabela_modelos import TabelaModelos\n"
   ]
  },
  {
   "cell_type": "code",
   "execution_count": 2,
   "metadata": {},
   "outputs": [
    {
     "name": "stdout",
     "output_type": "stream",
     "text": [
      "Experimento já existe. Retornando o ID existente.\n",
      "Experimento adicionado com ID: 1\n",
      "Experimento já existe. Retornando o ID existente.\n",
      "Segunda tentativa de adição retornou o ID: 1\n"
     ]
    },
    {
     "data": {
      "text/html": [
       "<div>\n",
       "<style scoped>\n",
       "    .dataframe tbody tr th:only-of-type {\n",
       "        vertical-align: middle;\n",
       "    }\n",
       "\n",
       "    .dataframe tbody tr th {\n",
       "        vertical-align: top;\n",
       "    }\n",
       "\n",
       "    .dataframe thead th {\n",
       "        text-align: right;\n",
       "    }\n",
       "</style>\n",
       "<table border=\"1\" class=\"dataframe\">\n",
       "  <thead>\n",
       "    <tr style=\"text-align: right;\">\n",
       "      <th></th>\n",
       "      <th>ID</th>\n",
       "      <th>Nome</th>\n",
       "      <th>Projeto</th>\n",
       "    </tr>\n",
       "  </thead>\n",
       "  <tbody>\n",
       "    <tr>\n",
       "      <th>0</th>\n",
       "      <td>1</td>\n",
       "      <td>Experimento Teste</td>\n",
       "      <td>Projeto Teste</td>\n",
       "    </tr>\n",
       "  </tbody>\n",
       "</table>\n",
       "</div>"
      ],
      "text/plain": [
       "   ID               Nome        Projeto\n",
       "0   1  Experimento Teste  Projeto Teste"
      ]
     },
     "metadata": {},
     "output_type": "display_data"
    }
   ],
   "source": [
    "# Caminho para o banco de dados\n",
    "db_path = '../dbs/meu_banco_de_dados.db'  # Ajuste conforme necessário\n",
    "\n",
    "experimentos = TabelaExperimentos(db_path)\n",
    "experimento_id = experimentos.add_experiment('Experimento Teste', 'Projeto Teste')\n",
    "print(f\"Experimento adicionado com ID: {experimento_id}\")\n",
    "\n",
    "# Tentando adicionar o mesmo experimento novamente\n",
    "experimento_id_2 = experimentos.add_experiment('Experimento Teste', 'Projeto Teste')\n",
    "print(f\"Segunda tentativa de adição retornou o ID: {experimento_id_2}\")\n",
    "\n",
    "\n",
    "# Exibindo todos os experimentos\n",
    "df_experimentos = experimentos.to_dataframe()\n",
    "display(df_experimentos)\n"
   ]
  },
  {
   "cell_type": "markdown",
   "metadata": {},
   "source": [
    "### Teste tabela modelos"
   ]
  },
  {
   "cell_type": "code",
   "execution_count": 3,
   "metadata": {},
   "outputs": [
    {
     "name": "stdout",
     "output_type": "stream",
     "text": [
      "Primeira adição retornou o ID do modelo: 1\n",
      "Segunda adição retornou o ID do modelo: 1\n",
      "Teste PASSOU: o mesmo modelo não foi duplicado.\n"
     ]
    },
    {
     "data": {
      "text/html": [
       "<div>\n",
       "<style scoped>\n",
       "    .dataframe tbody tr th:only-of-type {\n",
       "        vertical-align: middle;\n",
       "    }\n",
       "\n",
       "    .dataframe tbody tr th {\n",
       "        vertical-align: top;\n",
       "    }\n",
       "\n",
       "    .dataframe thead th {\n",
       "        text-align: right;\n",
       "    }\n",
       "</style>\n",
       "<table border=\"1\" class=\"dataframe\">\n",
       "  <thead>\n",
       "    <tr style=\"text-align: right;\">\n",
       "      <th></th>\n",
       "      <th>ID</th>\n",
       "      <th>ID_Experimento</th>\n",
       "      <th>Parametros</th>\n",
       "      <th>Semente</th>\n",
       "      <th>Hash</th>\n",
       "    </tr>\n",
       "  </thead>\n",
       "  <tbody>\n",
       "    <tr>\n",
       "      <th>0</th>\n",
       "      <td>1</td>\n",
       "      <td>1</td>\n",
       "      <td>{\"max_depth\": 2, \"n_estimators\": 100}</td>\n",
       "      <td>42</td>\n",
       "      <td>4942c14cf53b32449f7e49fe9e022e52</td>\n",
       "    </tr>\n",
       "  </tbody>\n",
       "</table>\n",
       "</div>"
      ],
      "text/plain": [
       "   ID  ID_Experimento                             Parametros  Semente  \\\n",
       "0   1               1  {\"max_depth\": 2, \"n_estimators\": 100}       42   \n",
       "\n",
       "                               Hash  \n",
       "0  4942c14cf53b32449f7e49fe9e022e52  "
      ]
     },
     "metadata": {},
     "output_type": "display_data"
    },
    {
     "data": {
      "text/html": [
       "<div>\n",
       "<style scoped>\n",
       "    .dataframe tbody tr th:only-of-type {\n",
       "        vertical-align: middle;\n",
       "    }\n",
       "\n",
       "    .dataframe tbody tr th {\n",
       "        vertical-align: top;\n",
       "    }\n",
       "\n",
       "    .dataframe thead th {\n",
       "        text-align: right;\n",
       "    }\n",
       "</style>\n",
       "<table border=\"1\" class=\"dataframe\">\n",
       "  <thead>\n",
       "    <tr style=\"text-align: right;\">\n",
       "      <th></th>\n",
       "      <th>ID</th>\n",
       "      <th>ID_Experimento</th>\n",
       "      <th>Parametros</th>\n",
       "      <th>Semente</th>\n",
       "      <th>Hash</th>\n",
       "    </tr>\n",
       "  </thead>\n",
       "  <tbody>\n",
       "    <tr>\n",
       "      <th>0</th>\n",
       "      <td>1</td>\n",
       "      <td>1</td>\n",
       "      <td>{\"max_depth\": 2, \"n_estimators\": 100}</td>\n",
       "      <td>42</td>\n",
       "      <td>4942c14cf53b32449f7e49fe9e022e52</td>\n",
       "    </tr>\n",
       "  </tbody>\n",
       "</table>\n",
       "</div>"
      ],
      "text/plain": [
       "   ID  ID_Experimento                             Parametros  Semente  \\\n",
       "0   1               1  {\"max_depth\": 2, \"n_estimators\": 100}       42   \n",
       "\n",
       "                               Hash  \n",
       "0  4942c14cf53b32449f7e49fe9e022e52  "
      ]
     },
     "metadata": {},
     "output_type": "display_data"
    }
   ],
   "source": [
    "# Exemplo de uso da classe TabelaModelos\n",
    "modelos = TabelaModelos(db_path)\n",
    "\n",
    "# Adicionando um modelo\n",
    "id_experimento = 1  # ID de um experimento existente\n",
    "parametros = {'n_estimators': 100, 'max_depth': 2}\n",
    "semente = 42\n",
    "\n",
    "# Primeira tentativa de adicionar o modelo\n",
    "modelo_id_1 = modelos.add(id_experimento, parametros, semente)\n",
    "print(f\"Primeira adição retornou o ID do modelo: {modelo_id_1}\")\n",
    "\n",
    "# Segunda tentativa de adicionar o mesmo modelo\n",
    "modelo_id_2 = modelos.add(id_experimento, parametros, semente)\n",
    "print(f\"Segunda adição retornou o ID do modelo: {modelo_id_2}\")\n",
    "\n",
    "# Verifica se os IDs retornados são iguais\n",
    "if modelo_id_1 == modelo_id_2:\n",
    "    print(\"Teste PASSOU: o mesmo modelo não foi duplicado.\")\n",
    "else:\n",
    "    print(\"Teste FALHOU: modelos duplicados foram criados.\")\n",
    "# Convertendo todos os modelos para um DataFrame\n",
    "df_modelos = modelos.to_dataframe()\n",
    "display(df_modelos)\n",
    "\n",
    "# Realizando uma consulta personalizada\n",
    "df_filtrado = modelos.query(\"ID_Experimento == 1\")\n",
    "display(df_filtrado)\n"
   ]
  },
  {
   "cell_type": "markdown",
   "metadata": {},
   "source": [
    "### Tabela Execuções"
   ]
  },
  {
   "cell_type": "code",
   "execution_count": 4,
   "metadata": {},
   "outputs": [
    {
     "name": "stdout",
     "output_type": "stream",
     "text": [
      "   ID  ID_Modelo  Rodada  Acuracia  F1ScoreMacro  TempoProcessamento  \\\n",
      "0   1          1       1      0.95          0.96               120.5   \n",
      "\n",
      "          DataExecucao    Estatisticas  \n",
      "0  2024-02-23 17:42:10  {\"loss\": 0.25}  \n"
     ]
    }
   ],
   "source": [
    "from tabela_execucoes import TabelaExecucoes\n",
    "\n",
    "# Cria uma instância da TabelaExecucoes\n",
    "execucoes = TabelaExecucoes(db_path)\n",
    "\n",
    "# Adiciona um registro de execução\n",
    "id_modelo = 1  # Supõe-se que este ID de modelo já exista no banco de dados\n",
    "rodada = 1\n",
    "acuracia = 0.95\n",
    "f1_score_macro = 0.96\n",
    "tempo_processamento = 120.5  # Segundos\n",
    "estatisticas = {\"loss\": 0.25}\n",
    "\n",
    "execucoes.add(id_modelo, rodada, acuracia, f1_score_macro, tempo_processamento, estatisticas)\n",
    "\n",
    "# Converte todos os registros de execução para um DataFrame e exibe\n",
    "df_execucoes = execucoes.to_dataframe()\n",
    "print(df_execucoes)\n"
   ]
  }
 ],
 "metadata": {
  "kernelspec": {
   "display_name": "dissertacao",
   "language": "python",
   "name": "python3"
  },
  "language_info": {
   "codemirror_mode": {
    "name": "ipython",
    "version": 3
   },
   "file_extension": ".py",
   "mimetype": "text/x-python",
   "name": "python",
   "nbconvert_exporter": "python",
   "pygments_lexer": "ipython3",
   "version": "3.11.8"
  }
 },
 "nbformat": 4,
 "nbformat_minor": 2
}
