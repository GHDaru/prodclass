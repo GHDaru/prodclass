{
 "cells": [
  {
   "cell_type": "code",
   "execution_count": 1,
   "metadata": {},
   "outputs": [],
   "source": [
    "from vectorizer import *"
   ]
  },
  {
   "cell_type": "markdown",
   "metadata": {},
   "source": [
    "Exemplo 1: Inicialização e Ajuste do Vetorizador\n",
    "Primeiro, inicializamos o ProductVectorizer com configurações específicas e ajustamos o vetorizador a um conjunto de descrições de produtos e suas categorias correspondentes."
   ]
  },
  {
   "cell_type": "code",
   "execution_count": 2,
   "metadata": {},
   "outputs": [],
   "source": [
    "# Suponha que temos as seguintes descrições de produtos e suas categorias\n",
    "descriptions = [\n",
    "    \"Smartphone Android tela 6.5 melhor preço\",\n",
    "    \"Notebook i7 16GB RAM estado de novo\",\n",
    "    \"Cafeteira elétrica programável com jarra de vidro\",\n",
    "    \"Smart TV 4k 55 polegadas promoção\",\n",
    "    \"Tênis de corrida masculino leve confortável\"\n",
    "]\n",
    "\n",
    "categories = [\"Eletrônicos\", \"Eletrônicos\", \"Eletrodomésticos\", \"Eletrônicos\", \"Vestuário\"]\n",
    "\n",
    "# Inicializando o ProductVectorizer\n",
    "vectorizer = ProductVectorizer(method='tfidf', ngram_range=(1, 2), norm='l2')\n",
    "\n",
    "# Ajustando o vetorizador às descrições e categorias\n",
    "vectorizer.fit(descriptions, categories)\n"
   ]
  },
  {
   "cell_type": "markdown",
   "metadata": {},
   "source": [
    "Exemplo 2: Obtendo a Matriz de Termos-Documento\n",
    "Após ajustar o vetorizador, podemos obter a matriz de termos-documento para analisar quais termos são considerados importantes para cada categoria.\n"
   ]
  },
  {
   "cell_type": "code",
   "execution_count": 4,
   "metadata": {},
   "outputs": [
    {
     "data": {
      "text/html": [
       "<div>\n",
       "<style scoped>\n",
       "    .dataframe tbody tr th:only-of-type {\n",
       "        vertical-align: middle;\n",
       "    }\n",
       "\n",
       "    .dataframe tbody tr th {\n",
       "        vertical-align: top;\n",
       "    }\n",
       "\n",
       "    .dataframe thead th {\n",
       "        text-align: right;\n",
       "    }\n",
       "</style>\n",
       "<table border=\"1\" class=\"dataframe\">\n",
       "  <thead>\n",
       "    <tr style=\"text-align: right;\">\n",
       "      <th></th>\n",
       "      <th>Eletrônicos</th>\n",
       "      <th>Eletrodomésticos</th>\n",
       "      <th>Vestuário</th>\n",
       "    </tr>\n",
       "  </thead>\n",
       "  <tbody>\n",
       "    <tr>\n",
       "      <th>16gb</th>\n",
       "      <td>0.162221</td>\n",
       "      <td>0.000000</td>\n",
       "      <td>0.000000</td>\n",
       "    </tr>\n",
       "    <tr>\n",
       "      <th>16gb ram</th>\n",
       "      <td>0.162221</td>\n",
       "      <td>0.000000</td>\n",
       "      <td>0.000000</td>\n",
       "    </tr>\n",
       "    <tr>\n",
       "      <th>4k</th>\n",
       "      <td>0.162221</td>\n",
       "      <td>0.000000</td>\n",
       "      <td>0.000000</td>\n",
       "    </tr>\n",
       "    <tr>\n",
       "      <th>4k 55</th>\n",
       "      <td>0.162221</td>\n",
       "      <td>0.000000</td>\n",
       "      <td>0.000000</td>\n",
       "    </tr>\n",
       "    <tr>\n",
       "      <th>5</th>\n",
       "      <td>0.162221</td>\n",
       "      <td>0.000000</td>\n",
       "      <td>0.000000</td>\n",
       "    </tr>\n",
       "    <tr>\n",
       "      <th>...</th>\n",
       "      <td>...</td>\n",
       "      <td>...</td>\n",
       "      <td>...</td>\n",
       "    </tr>\n",
       "    <tr>\n",
       "      <th>tenis</th>\n",
       "      <td>0.000000</td>\n",
       "      <td>0.000000</td>\n",
       "      <td>0.316228</td>\n",
       "    </tr>\n",
       "    <tr>\n",
       "      <th>tenis de</th>\n",
       "      <td>0.000000</td>\n",
       "      <td>0.000000</td>\n",
       "      <td>0.316228</td>\n",
       "    </tr>\n",
       "    <tr>\n",
       "      <th>tv</th>\n",
       "      <td>0.162221</td>\n",
       "      <td>0.000000</td>\n",
       "      <td>0.000000</td>\n",
       "    </tr>\n",
       "    <tr>\n",
       "      <th>tv 4k</th>\n",
       "      <td>0.162221</td>\n",
       "      <td>0.000000</td>\n",
       "      <td>0.000000</td>\n",
       "    </tr>\n",
       "    <tr>\n",
       "      <th>vidro</th>\n",
       "      <td>0.000000</td>\n",
       "      <td>0.288675</td>\n",
       "      <td>0.000000</td>\n",
       "    </tr>\n",
       "  </tbody>\n",
       "</table>\n",
       "<p>61 rows × 3 columns</p>\n",
       "</div>"
      ],
      "text/plain": [
       "          Eletrônicos  Eletrodomésticos  Vestuário\n",
       "16gb         0.162221          0.000000   0.000000\n",
       "16gb ram     0.162221          0.000000   0.000000\n",
       "4k           0.162221          0.000000   0.000000\n",
       "4k 55        0.162221          0.000000   0.000000\n",
       "5            0.162221          0.000000   0.000000\n",
       "...               ...               ...        ...\n",
       "tenis        0.000000          0.000000   0.316228\n",
       "tenis de     0.000000          0.000000   0.316228\n",
       "tv           0.162221          0.000000   0.000000\n",
       "tv 4k        0.162221          0.000000   0.000000\n",
       "vidro        0.000000          0.288675   0.000000\n",
       "\n",
       "[61 rows x 3 columns]"
      ]
     },
     "metadata": {},
     "output_type": "display_data"
    }
   ],
   "source": [
    "term_document_matrix = vectorizer.get_term_document_matrix()\n",
    "display(term_document_matrix)\n"
   ]
  },
  {
   "cell_type": "markdown",
   "metadata": {},
   "source": [
    "Exemplo 3: Transformação e Predição\n",
    "Podemos também transformar novas descrições em vetores numéricos e realizar predições sobre a categoria a que pertencem."
   ]
  },
  {
   "cell_type": "code",
   "execution_count": 5,
   "metadata": {},
   "outputs": [
    {
     "name": "stdout",
     "output_type": "stream",
     "text": [
      "['Eletrônicos' 'Eletrônicos']\n"
     ]
    }
   ],
   "source": [
    "new_descriptions = [\n",
    "    \"Smartphone 128GB câmera alta resolução\",\n",
    "    \"Geladeira frost free 400 litros\"\n",
    "]\n",
    "\n",
    "# Transformando novas descrições\n",
    "transformed_descriptions = vectorizer.transform(new_descriptions)\n",
    "\n",
    "# Realizando predições sobre as categorias das novas descrições\n",
    "predicted_categories = vectorizer.predict(new_descriptions, out='name')\n",
    "print(predicted_categories)\n"
   ]
  },
  {
   "cell_type": "markdown",
   "metadata": {},
   "source": [
    "Exemplo 4: Predição de Escores\n",
    "Se quisermos ver os escores de similaridade entre as novas descrições e as categorias existentes, podemos usar o método predict_score."
   ]
  },
  {
   "cell_type": "code",
   "execution_count": 9,
   "metadata": {},
   "outputs": [
    {
     "data": {
      "text/plain": [
       "array([[0.16222142, 0.        ],\n",
       "       [0.        , 0.        ],\n",
       "       [0.        , 0.        ]])"
      ]
     },
     "metadata": {},
     "output_type": "display_data"
    }
   ],
   "source": [
    "# Obtendo escores de similaridade\n",
    "scores = vectorizer.predict_score(new_descriptions)\n",
    "display(scores.toarray())\n"
   ]
  },
  {
   "cell_type": "code",
   "execution_count": null,
   "metadata": {},
   "outputs": [],
   "source": []
  }
 ],
 "metadata": {
  "kernelspec": {
   "display_name": "dissertacao",
   "language": "python",
   "name": "python3"
  },
  "language_info": {
   "codemirror_mode": {
    "name": "ipython",
    "version": 3
   },
   "file_extension": ".py",
   "mimetype": "text/x-python",
   "name": "python",
   "nbconvert_exporter": "python",
   "pygments_lexer": "ipython3",
   "version": "3.11.7"
  }
 },
 "nbformat": 4,
 "nbformat_minor": 2
}
